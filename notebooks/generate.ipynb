{
 "cells": [
  {
   "cell_type": "code",
   "execution_count": null,
   "id": "a8c354b0-b953-4d02-bf53-05f7704c8ba1",
   "metadata": {},
   "outputs": [],
   "source": [
    "import torch\n",
    "from torchvision.transforms.functional import to_pil_image"
   ]
  },
  {
   "cell_type": "code",
   "execution_count": null,
   "id": "2342cae1-337e-4216-a663-0e5007facd42",
   "metadata": {},
   "outputs": [],
   "source": [
    "import os, sys\n",
    "sys.path.append(os.path.abspath('..'))\n",
    "\n",
    "from model import Generator"
   ]
  },
  {
   "cell_type": "code",
   "execution_count": null,
   "id": "dcd50f3f-13b5-4f1b-9062-523917e29206",
   "metadata": {},
   "outputs": [],
   "source": [
    "latent = 512\n",
    "n_mlp = 8\n",
    "size = 256\n",
    "channel_multiplier = 2\n",
    "sample = 1\n",
    "truncation = 1\n",
    "ckpt = '../550000.pt'\n",
    "device = 'cuda'"
   ]
  },
  {
   "cell_type": "code",
   "execution_count": null,
   "id": "840ae84a-e861-4fd0-afd9-dc65da4ad77e",
   "metadata": {},
   "outputs": [],
   "source": [
    "g_ema = Generator(\n",
    "    size, latent, n_mlp, channel_multiplier=channel_multiplier\n",
    ").to(device)\n",
    "checkpoint = torch.load(ckpt, map_location='cpu')\n",
    "g_ema.load_state_dict(checkpoint[\"g_ema\"], strict=False)"
   ]
  },
  {
   "cell_type": "code",
   "execution_count": null,
   "id": "c01a064f-1916-45b1-8cb7-d89bb2c46526",
   "metadata": {},
   "outputs": [],
   "source": [
    "sample_z = torch.randn(sample, latent, device=device)\n",
    "with torch.no_grad():\n",
    "    sample, _ = g_ema(\n",
    "        [sample_z], truncation=truncation, truncation_latent=None\n",
    "    )"
   ]
  },
  {
   "cell_type": "code",
   "execution_count": null,
   "id": "46d5115a-d962-459f-a189-d63a46f2d3b1",
   "metadata": {},
   "outputs": [],
   "source": [
    "image = sample * .5 + .5\n",
    "image = torch.clamp(image, 0., 1 - 1e-3)[0]"
   ]
  },
  {
   "cell_type": "code",
   "execution_count": null,
   "id": "1912d364-42cb-4bfe-9c99-d86f5e25759e",
   "metadata": {},
   "outputs": [],
   "source": [
    "to_pil_image(image)"
   ]
  },
  {
   "cell_type": "code",
   "execution_count": null,
   "id": "a6a50e1f-c7ad-4df8-bf01-36b40894bb93",
   "metadata": {},
   "outputs": [],
   "source": []
  }
 ],
 "metadata": {
  "kernelspec": {
   "display_name": "Python 3 (ipykernel)",
   "language": "python",
   "name": "python3"
  },
  "language_info": {
   "codemirror_mode": {
    "name": "ipython",
    "version": 3
   },
   "file_extension": ".py",
   "mimetype": "text/x-python",
   "name": "python",
   "nbconvert_exporter": "python",
   "pygments_lexer": "ipython3",
   "version": "3.10.13"
  }
 },
 "nbformat": 4,
 "nbformat_minor": 5
}
